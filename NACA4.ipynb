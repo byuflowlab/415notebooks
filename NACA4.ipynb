{
 "cells": [
  {
   "cell_type": "code",
   "execution_count": 31,
   "metadata": {},
   "outputs": [
    {
     "data": {
      "text/plain": [
       "naca4 (generic function with 1 method)"
      ]
     },
     "execution_count": 31,
     "metadata": {},
     "output_type": "execute_result"
    }
   ],
   "source": [
    "function naca4(m, p, tc, n)\n",
    "\n",
    "    # normalize inputs\n",
    "    tc = tc/100.0\n",
    "    m = m/100.0\n",
    "    p = p/10.0\n",
    "    \n",
    "    # x discretization\n",
    "    x = linspace(0, 1, n)\n",
    "    \n",
    "    # thickness\n",
    "    tau = 5*tc*(0.2969*sqrt.(x) - 0.1260*x - 0.3516*x.^2 + 0.2843*x.^3 - 0.1015*x.^4)\n",
    "\n",
    "    # camber\n",
    "    yc = zeros(x)\n",
    "    if p != 0\n",
    "        idx = x .<= p\n",
    "        yc[idx] = m/p^2*(2*p*x[idx] - x[idx].^2)\n",
    "        idx = x .> p\n",
    "        yc[idx] = m/(1-p)^2*(1-2*p + 2*p*x[idx] - x[idx].^2)\n",
    "    end\n",
    "\n",
    "    # upper and lower surface\n",
    "    yu = yc + tau\n",
    "    yl = yc - tau\n",
    "    \n",
    "    return x, yu, yl\n",
    "end"
   ]
  },
  {
   "cell_type": "code",
   "execution_count": 33,
   "metadata": {},
   "outputs": [
    {
     "data": {
      "application/vnd.jupyter.widget-view+json": {
       "model_id": "127830f6-e933-491f-96f5-1c3f1e65d244",
       "version_major": 2,
       "version_minor": 0
      }
     },
     "metadata": {},
     "output_type": "display_data"
    },
    {
     "data": {
      "text/html": [],
      "text/plain": [
       "Interact.Options{:SelectionSlider,Int64}(49: \"input-19\" = 4 Int64 , \"m\", 4, \"4\", 5, Interact.OptionDict(DataStructures.OrderedDict(\"0\"=>0,\"1\"=>1,\"2\"=>2,\"3\"=>3,\"4\"=>4,\"5\"=>5,\"6\"=>6,\"7\"=>7,\"8\"=>8,\"9\"=>9…), Dict(0=>\"0\",4=>\"4\",7=>\"7\",9=>\"9\",2=>\"2\",3=>\"3\",5=>\"5\",8=>\"8\",6=>\"6\",1=>\"1\"…)), Any[], Any[], true, \"horizontal\")"
      ]
     },
     "metadata": {},
     "output_type": "display_data"
    },
    {
     "data": {
      "application/vnd.jupyter.widget-view+json": {
       "model_id": "e8b87cea-8bcd-457c-b171-456cac618af3",
       "version_major": 2,
       "version_minor": 0
      }
     },
     "metadata": {},
     "output_type": "display_data"
    },
    {
     "data": {
      "text/html": [],
      "text/plain": [
       "Interact.Options{:SelectionSlider,Int64}(51: \"input-20\" = 4 Int64 , \"p\", 4, \"4\", 5, Interact.OptionDict(DataStructures.OrderedDict(\"0\"=>0,\"1\"=>1,\"2\"=>2,\"3\"=>3,\"4\"=>4,\"5\"=>5,\"6\"=>6,\"7\"=>7,\"8\"=>8,\"9\"=>9…), Dict(0=>\"0\",4=>\"4\",7=>\"7\",9=>\"9\",2=>\"2\",3=>\"3\",5=>\"5\",8=>\"8\",6=>\"6\",1=>\"1\"…)), Any[], Any[], true, \"horizontal\")"
      ]
     },
     "metadata": {},
     "output_type": "display_data"
    },
    {
     "data": {
      "application/vnd.jupyter.widget-view+json": {
       "model_id": "a3c878a0-6d8c-4fe1-8e24-8cc608a23258",
       "version_major": 2,
       "version_minor": 0
      }
     },
     "metadata": {},
     "output_type": "display_data"
    },
    {
     "data": {
      "text/html": [],
      "text/plain": [
       "Interact.Options{:SelectionSlider,Int64}(53: \"input-21\" = 12 Int64 , \"tc\", 12, \"12\", 13, Interact.OptionDict(DataStructures.OrderedDict(\"0\"=>0,\"1\"=>1,\"2\"=>2,\"3\"=>3,\"4\"=>4,\"5\"=>5,\"6\"=>6,\"7\"=>7,\"8\"=>8,\"9\"=>9…), Dict(18=>\"18\",2=>\"2\",16=>\"16\",11=>\"11\",21=>\"21\",0=>\"0\",7=>\"7\",9=>\"9\",10=>\"10\",25=>\"25\"…)), Any[], Any[], true, \"horizontal\")"
      ]
     },
     "metadata": {},
     "output_type": "display_data"
    },
    {
     "data": {
      "image/png": "[encoded data removed]",
      "text/plain": [
       "PyPlot.Figure(PyObject <matplotlib.figure.Figure object at 0x136a35a10>)"
      ]
     },
     "execution_count": 33,
     "metadata": {
      "comm_id": "998287ed-5117-4c4e-9a9f-11956e8967fa",
      "reactive": true
     },
     "output_type": "execute_result"
    }
   ],
   "source": [
    "using PyPlot\n",
    "using Interact\n",
    "\n",
    "n = 200\n",
    "f = figure()\n",
    "\n",
    "@manipulate for m=0:1:9, p=0:1:9, tc=0:1:25; withfig(f) do\n",
    "        x, yu, yl = naca4(m, p, tc, n)\n",
    "        plot(x, yu, \"k\")\n",
    "        plot(x, yl, \"k\")\n",
    "        \n",
    "        xlim([-0.05, 1.05])\n",
    "        ylim([-0.4, 0.4])\n",
    "        axis(\"off\")\n",
    "    end\n",
    "end\n"
   ]
  }
 ],
 "metadata": {
  "kernelspec": {
   "display_name": "Julia 0.6.0",
   "language": "julia",
   "name": "julia-0.6"
  },
  "language_info": {
   "file_extension": ".jl",
   "mimetype": "application/julia",
   "name": "julia",
   "version": "0.6.0"
  },
  "widgets": {
   "application/vnd.jupyter.widget-state+json": {
    "state": {
     "000805be-5767-47b1-ad00-fcb31f5853c5": {
      "model_module": "@jupyter-widgets/controls",
      "model_module_version": "1.0.0",
      "model_name": "SelectionSliderModel",
      "state": {
       "_options_labels": [
        "0",
        "1",
        "2",
        "3",
        "4",
        "5",
        "6",
        "7",
        "8",
        "9"
       ],
       "description": "m",
       "icons": [],
       "index": 2,
       "model_name": "SelectionSliderModel",
       "msg_throttle": 5,
       "selected_label": "4",
       "tooltips": [],
       "value": "4",
       "visible": true
      }
     },
     "031a3c06-00e5-45d3-9562-c15a566a9d47": {
      "model_module": "@jupyter-widgets/controls",
      "model_module_version": "1.0.0",
      "model_name": "SelectionSliderModel",
      "state": {
       "_options_labels": [
        "0",
        "1",
        "2",
        "3",
        "4",
        "5",
        "6",
        "7",
        "8",
        "9",
        "10",
        "11",
        "12",
        "13",
        "14",
        "15",
        "16",
        "17",
        "18",
        "19",
        "20",
        "21",
        "22",
        "23",
        "24",
        "25",
        "26",
        "27",
        "28",
        "29",
        "30"
       ],
       "description": "tc",
       "icons": [],
       "index": 15,
       "model_name": "SelectionSliderModel",
       "msg_throttle": 5,
       "selected_label": "30",
       "tooltips": [],
       "value": "30",
       "visible": true
      }
     },
     "1030a430-73eb-40c9-b618-319c5b40d125": {
      "model_module": "@jupyter-widgets/controls",
      "model_module_version": "1.0.0",
      "model_name": "SelectionSliderModel",
      "state": {
       "_options_labels": [
        "0",
        "1",
        "2",
        "3",
        "4",
        "5",
        "6",
        "7",
        "8",
        "9"
       ],
       "description": "m",
       "icons": [],
       "index": 4,
       "model_name": "SelectionSliderModel",
       "msg_throttle": 5,
       "selected_label": "4",
       "tooltips": [],
       "value": "4",
       "visible": true
      }
     },
     "127830f6-e933-491f-96f5-1c3f1e65d244": {
      "model_module": "@jupyter-widgets/controls",
      "model_module_version": "1.0.0",
      "model_name": "SelectionSliderModel",
      "state": {
       "_options_labels": [
        "0",
        "1",
        "2",
        "3",
        "4",
        "5",
        "6",
        "7",
        "8",
        "9"
       ],
       "description": "m",
       "icons": [],
       "index": 4,
       "model_name": "SelectionSliderModel",
       "msg_throttle": 5,
       "selected_label": "4",
       "tooltips": [],
       "value": "4",
       "visible": true
      }
     },
     "212fb523-adbe-4ff7-a3bc-82384ffb977f": {
      "model_module": "@jupyter-widgets/controls",
      "model_module_version": "1.0.0",
      "model_name": "SelectionSliderModel",
      "state": {
       "_options_labels": [
        "0",
        "1",
        "2",
        "3",
        "4",
        "5",
        "6",
        "7",
        "8",
        "9",
        "10",
        "11",
        "12",
        "13",
        "14",
        "15",
        "16",
        "17",
        "18",
        "19",
        "20",
        "21",
        "22",
        "23",
        "24",
        "25",
        "26",
        "27",
        "28",
        "29",
        "30"
       ],
       "description": "tc",
       "icons": [],
       "index": 30,
       "model_name": "SelectionSliderModel",
       "msg_throttle": 5,
       "selected_label": "30",
       "tooltips": [],
       "value": "30",
       "visible": true
      }
     },
     "475122ac-6877-4238-96e0-19aabce66fe1": {
      "model_module": "@jupyter-widgets/controls",
      "model_module_version": "1.0.0",
      "model_name": "SelectionSliderModel",
      "state": {
       "_options_labels": [
        "0",
        "1",
        "2",
        "3",
        "4",
        "5",
        "6",
        "7",
        "8",
        "9"
       ],
       "description": "p",
       "icons": [],
       "index": 0,
       "model_name": "SelectionSliderModel",
       "msg_throttle": 5,
       "selected_label": "0",
       "tooltips": [],
       "value": "0",
       "visible": true
      }
     },
     "4977434d-d30e-44b8-917c-9056c73ba708": {
      "model_module": "@jupyter-widgets/controls",
      "model_module_version": "1.0.0",
      "model_name": "SelectionSliderModel",
      "state": {
       "_options_labels": [
        "0",
        "1",
        "2",
        "3",
        "4",
        "5",
        "6",
        "7",
        "8",
        "9"
       ],
       "description": "p",
       "icons": [],
       "index": 4,
       "model_name": "SelectionSliderModel",
       "msg_throttle": 5,
       "selected_label": "4",
       "tooltips": [],
       "value": "4",
       "visible": true
      }
     },
     "789b18c0-9b90-48d1-8f86-795cb954d915": {
      "model_module": "@jupyter-widgets/controls",
      "model_module_version": "1.0.0",
      "model_name": "SelectionSliderModel",
      "state": {
       "_options_labels": [
        "0",
        "1",
        "2",
        "3",
        "4",
        "5",
        "6",
        "7",
        "8",
        "9",
        "10",
        "11",
        "12",
        "13",
        "14",
        "15",
        "16",
        "17",
        "18",
        "19",
        "20",
        "21",
        "22",
        "23",
        "24",
        "25",
        "26",
        "27",
        "28",
        "29",
        "30"
       ],
       "description": "tc",
       "icons": [],
       "index": 15,
       "model_name": "SelectionSliderModel",
       "msg_throttle": 5,
       "selected_label": "15",
       "tooltips": [],
       "value": "15",
       "visible": true
      }
     },
     "a3c878a0-6d8c-4fe1-8e24-8cc608a23258": {
      "model_module": "@jupyter-widgets/controls",
      "model_module_version": "1.0.0",
      "model_name": "SelectionSliderModel",
      "state": {
       "_options_labels": [
        "0",
        "1",
        "2",
        "3",
        "4",
        "5",
        "6",
        "7",
        "8",
        "9",
        "10",
        "11",
        "12",
        "13",
        "14",
        "15",
        "16",
        "17",
        "18",
        "19",
        "20",
        "21",
        "22",
        "23",
        "24",
        "25"
       ],
       "description": "tc",
       "icons": [],
       "index": 12,
       "model_name": "SelectionSliderModel",
       "msg_throttle": 5,
       "selected_label": "12",
       "tooltips": [],
       "value": "12",
       "visible": true
      }
     },
     "b57e4454-cf8f-4a89-8776-ef5a7ebed7ee": {
      "model_module": "@jupyter-widgets/controls",
      "model_module_version": "1.0.0",
      "model_name": "SelectionSliderModel",
      "state": {
       "_options_labels": [
        "0",
        "1",
        "2",
        "3",
        "4",
        "5",
        "6",
        "7",
        "8",
        "9",
        "10",
        "11",
        "12",
        "13",
        "14",
        "15",
        "16",
        "17",
        "18",
        "19",
        "20",
        "21",
        "22",
        "23",
        "24",
        "25",
        "26",
        "27",
        "28",
        "29",
        "30"
       ],
       "description": "tc",
       "icons": [],
       "index": 15,
       "model_name": "SelectionSliderModel",
       "msg_throttle": 5,
       "selected_label": "15",
       "tooltips": [],
       "value": "15",
       "visible": true
      }
     },
     "c4d916ef-16dd-45aa-8562-57161a1f0235": {
      "model_module": "@jupyter-widgets/controls",
      "model_module_version": "1.0.0",
      "model_name": "SelectionSliderModel",
      "state": {
       "_options_labels": [
        "0",
        "1",
        "2",
        "3",
        "4",
        "5",
        "6",
        "7",
        "8",
        "9"
       ],
       "description": "m",
       "icons": [],
       "index": 3,
       "model_name": "SelectionSliderModel",
       "msg_throttle": 5,
       "selected_label": "4",
       "tooltips": [],
       "value": "4",
       "visible": true
      }
     },
     "cb30dfaa-8f6e-47d7-b3cd-6962f367fbeb": {
      "model_module": "@jupyter-widgets/controls",
      "model_module_version": "1.0.0",
      "model_name": "SelectionSliderModel",
      "state": {
       "_options_labels": [
        "0",
        "1",
        "2",
        "3",
        "4",
        "5",
        "6",
        "7",
        "8",
        "9"
       ],
       "description": "p",
       "icons": [],
       "index": 0,
       "model_name": "SelectionSliderModel",
       "msg_throttle": 5,
       "selected_label": "4",
       "tooltips": [],
       "value": "4",
       "visible": true
      }
     },
     "cbd1bea9-bf7d-4b3a-9e57-fbec92a438ae": {
      "model_module": "@jupyter-widgets/controls",
      "model_module_version": "1.0.0",
      "model_name": "SelectionSliderModel",
      "state": {
       "_options_labels": [
        "0",
        "1",
        "2",
        "3",
        "4",
        "5",
        "6",
        "7",
        "8",
        "9"
       ],
       "description": "m",
       "icons": [],
       "index": 0,
       "model_name": "SelectionSliderModel",
       "msg_throttle": 5,
       "selected_label": "4",
       "tooltips": [],
       "value": "4",
       "visible": true
      }
     },
     "d5b5f6f7-e567-4a9e-9c53-26c9375e9123": {
      "model_module": "@jupyter-widgets/controls",
      "model_module_version": "1.0.0",
      "model_name": "SelectionSliderModel",
      "state": {
       "_options_labels": [
        "0",
        "1",
        "2",
        "3",
        "4",
        "5",
        "6",
        "7",
        "8",
        "9",
        "10",
        "11",
        "12",
        "13",
        "14",
        "15",
        "16",
        "17",
        "18",
        "19",
        "20",
        "21",
        "22",
        "23",
        "24",
        "25",
        "26",
        "27",
        "28",
        "29",
        "30",
        "31",
        "32",
        "33",
        "34",
        "35",
        "36",
        "37",
        "38",
        "39",
        "40",
        "41",
        "42",
        "43",
        "44",
        "45",
        "46",
        "47",
        "48",
        "49",
        "50"
       ],
       "description": "tc",
       "icons": [],
       "index": 12,
       "model_name": "SelectionSliderModel",
       "msg_throttle": 5,
       "selected_label": "10",
       "tooltips": [],
       "value": "10",
       "visible": true
      }
     },
     "d7d6488a-2eff-4690-a724-11f093db8786": {
      "model_module": "@jupyter-widgets/controls",
      "model_module_version": "1.0.0",
      "model_name": "SelectionSliderModel",
      "state": {
       "_options_labels": [
        "0",
        "1",
        "2",
        "3",
        "4",
        "5",
        "6",
        "7",
        "8",
        "9"
       ],
       "description": "m",
       "icons": [],
       "index": 3,
       "model_name": "SelectionSliderModel",
       "msg_throttle": 5,
       "selected_label": "4",
       "tooltips": [],
       "value": "4",
       "visible": true
      }
     },
     "e8b87cea-8bcd-457c-b171-456cac618af3": {
      "model_module": "@jupyter-widgets/controls",
      "model_module_version": "1.0.0",
      "model_name": "SelectionSliderModel",
      "state": {
       "_options_labels": [
        "0",
        "1",
        "2",
        "3",
        "4",
        "5",
        "6",
        "7",
        "8",
        "9"
       ],
       "description": "p",
       "icons": [],
       "index": 4,
       "model_name": "SelectionSliderModel",
       "msg_throttle": 5,
       "selected_label": "4",
       "tooltips": [],
       "value": "4",
       "visible": true
      }
     },
     "ec991aa5-cebc-496a-ab96-e861ffb13fa0": {
      "model_module": "@jupyter-widgets/controls",
      "model_module_version": "1.0.0",
      "model_name": "SelectionSliderModel",
      "state": {
       "_options_labels": [
        "0",
        "1",
        "2",
        "3",
        "4",
        "5",
        "6",
        "7",
        "8",
        "9"
       ],
       "description": "m",
       "icons": [],
       "index": 4,
       "model_name": "SelectionSliderModel",
       "msg_throttle": 5,
       "selected_label": "4",
       "tooltips": [],
       "value": "4",
       "visible": true
      }
     },
     "ef21fea7-1587-4b6d-8866-f432da977b6e": {
      "model_module": "@jupyter-widgets/controls",
      "model_module_version": "1.0.0",
      "model_name": "SelectionSliderModel",
      "state": {
       "_options_labels": [
        "0",
        "1",
        "2",
        "3",
        "4",
        "5",
        "6",
        "7",
        "8",
        "9"
       ],
       "description": "p",
       "icons": [],
       "index": 4,
       "model_name": "SelectionSliderModel",
       "msg_throttle": 5,
       "selected_label": "4",
       "tooltips": [],
       "value": "4",
       "visible": true
      }
     },
     "f295ac21-2174-4ef2-b8d3-ebc58d784327": {
      "model_module": "@jupyter-widgets/controls",
      "model_module_version": "1.0.0",
      "model_name": "SelectionSliderModel",
      "state": {
       "_options_labels": [
        "0",
        "1",
        "2",
        "3",
        "4",
        "5",
        "6",
        "7",
        "8",
        "9"
       ],
       "description": "p",
       "icons": [],
       "index": 5,
       "model_name": "SelectionSliderModel",
       "msg_throttle": 5,
       "selected_label": "4",
       "tooltips": [],
       "value": "4",
       "visible": true
      }
     },
     "fe063cfa-29bd-434e-8e82-f8d00f55ac79": {
      "model_module": "@jupyter-widgets/controls",
      "model_module_version": "1.0.0",
      "model_name": "SelectionSliderModel",
      "state": {
       "_options_labels": [
        "0",
        "1",
        "2",
        "3",
        "4",
        "5",
        "6",
        "7",
        "8",
        "9"
       ],
       "description": "p",
       "icons": [],
       "index": 4,
       "model_name": "SelectionSliderModel",
       "msg_throttle": 5,
       "selected_label": "4",
       "tooltips": [],
       "value": "4",
       "visible": true
      }
     },
     "fe2ca215-0a74-4018-8789-6117c44f9449": {
      "model_module": "@jupyter-widgets/controls",
      "model_module_version": "1.0.0",
      "model_name": "SelectionSliderModel",
      "state": {
       "_options_labels": [
        "0",
        "1",
        "2",
        "3",
        "4",
        "5",
        "6",
        "7",
        "8",
        "9",
        "10",
        "11",
        "12",
        "13",
        "14",
        "15",
        "16",
        "17",
        "18",
        "19",
        "20",
        "21",
        "22",
        "23",
        "24",
        "25",
        "26",
        "27",
        "28",
        "29",
        "30",
        "31",
        "32",
        "33",
        "34",
        "35",
        "36",
        "37",
        "38",
        "39",
        "40",
        "41",
        "42",
        "43",
        "44",
        "45",
        "46",
        "47",
        "48",
        "49",
        "50"
       ],
       "description": "tc",
       "icons": [],
       "index": 12,
       "model_name": "SelectionSliderModel",
       "msg_throttle": 5,
       "selected_label": "25",
       "tooltips": [],
       "value": "25",
       "visible": true
      }
     }
    },
    "version_major": 2,
    "version_minor": 0
   }
  }
 },
 "nbformat": 4,
 "nbformat_minor": 2
}
