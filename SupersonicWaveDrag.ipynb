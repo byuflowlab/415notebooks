{
 "cells": [
  {
   "cell_type": "markdown",
   "metadata": {},
   "source": [
    "## Supersonic Wave Drag\n",
    "\n",
    "This a lift-dependent and a volume-dependent component of wave drag.\n",
    "\n",
    "#### Lift-dependent\n",
    "\n",
    "R.T. Jones derives the following expression for combined vortex and wave drag due to lift of a minimum-drag ellipse with a given aspect ratio.\n",
    "$$ C_D = \\frac{C_L^2}{\\pi AR} \\sqrt{1 + (M^2 - 1)\\left(\\frac{\\pi AR}{4}\\right)^2}$$"
   ]
  },
  {
   "cell_type": "markdown",
   "metadata": {},
   "source": [
    "We want just the wave drag so we will subtract off the vortex drag $C_L^2/(\\pi AR)$ (we assume $e_{inv} = 1$ because that is consistent with the above minimum-drag expression, which has an elliptic distribution of lift in all directions).\n",
    "$$ {C_D}_{c,l} = \\frac{C_L^2}{\\pi AR} \\left[\\sqrt{1 + (M^2 - 1)\\left(\\frac{\\pi AR}{4}\\right)^2} - 1\\right]$$"
   ]
  },
  {
   "cell_type": "markdown",
   "metadata": {},
   "source": [
    "Supersonic wings are generally longer than they are wide.  A better fit to experimental data is observed if we use an equivalent ellipse based on length and area rather than span and area (aspect ratio).  The area of an ellipse of length $l$ and width $b$ is\n",
    "$$ S_{ellipse} = \\frac{\\pi b l}{4}$$\n",
    "We equate the gross area of the wing $S_g$ with that of an equivalent ellipse and then solve for the span in terms of gross wing area and length:\n",
    "$$ b = \\frac{4 S_g}{\\pi l}$$"
   ]
  },
  {
   "cell_type": "markdown",
   "metadata": {},
   "source": [
    "Thus, we can express aspect ratio in terms of length and area, recalling that aspect ratio is defined using the reference area:\n",
    "$$\n",
    "\\begin{align}\n",
    "AR &= \\frac{b^2}{S_{ref}}\\\\\n",
    "&= \\frac{b^2 S_g}{S_{ref} S_g}\\\\\n",
    "&= \\frac{16 S_g^2}{\\pi^2 l^2 S_g}\\frac{S_g}{S_{ref}}\\\\\n",
    "&= \\frac{16 S_g}{\\pi^2 l^2}\\frac{S_g}{S_{ref}}\\\\\n",
    "\\end{align}\n",
    "$$"
   ]
  },
  {
   "cell_type": "markdown",
   "metadata": {},
   "source": [
    "Substituting into the the wave drag expression\n",
    "$$ {C_D}_{c,l} = \\frac{C_L^2 \\pi l^2 S_{ref}}{16 S_g^2} \\left[\\sqrt{1 + (M^2 - 1)\\left(\\frac{4 S_g^2}{\\pi l^2 S_{ref}}\\right)^2} - 1\\right]$$"
   ]
  },
  {
   "cell_type": "markdown",
   "metadata": {},
   "source": [
    "For convenience let's define the following terms:\n",
    "$$\\beta = \\sqrt{M^2 -1}$$\n",
    "(the only reason why we use a sqrt is because this is a common term used in supersonic aerodynamic analysis and this is how it is defined).\n",
    "$$r = \\frac{\\pi l^2}{4 S_g}$$\n",
    "$$S_r = \\frac{S_g}{S_{ref}}$$\n",
    "then the expression becomes"
   ]
  },
  {
   "cell_type": "markdown",
   "metadata": {},
   "source": [
    "$$ {C_D}_{c,l} = C_L^2 \\frac{r}{4 S_r} \\left[\\sqrt{1 + \\left(\\frac{\\beta S_r}{r}\\right)^2} - 1\\right]$$"
   ]
  },
  {
   "cell_type": "markdown",
   "metadata": {},
   "source": [
    "#### Volume Dependent\n",
    "\n",
    "For an elliptic wing with biconvex airfoil sections R.T. Jones derives the following expression for supersonic volume-dependent wave drag:\n",
    "$${C_D}_{c,v} = \\frac{t^2}{a^2} \\frac{(\\beta^2 + 2 (a/e)^2)}{(\\beta^2 + (a/e)^2)^{1.5}} $$\n",
    "where $a$ is the ellipse semiaxis in the flight direction, $e$ is the orthogonal semiaxis, and $t$ is the maximum thickness in the center of the wing.  "
   ]
  },
  {
   "cell_type": "markdown",
   "metadata": {},
   "source": [
    "In terms of more wing quantities $a = c/2$ and $e = b/2$ (where $c$ is the maximum chord at the center of the wing).  Making the substitutions yields:\n",
    "$${C_D}_{c,v} = 4 \\left(\\frac{t}{c}\\right)^2 \\frac{(\\beta^2 + 2 (c/b)^2)}{(\\beta^2 + (c/b)^2)^{1.5}} $$\n",
    "however we again would like to eliminate span from the expression in favor of the length parameter ($c$ in this case)."
   ]
  },
  {
   "cell_type": "markdown",
   "metadata": {},
   "source": [
    "We use the previous expression relating span to gross area and length ($c$), but interchange with the variable $l$ we used previously\n",
    "$${C_D}_{c,v} = 4 \\left(\\frac{t}{c}\\right)^2 \\frac{(\\beta^2 + 2 (l^2\\pi/4 S_g)^2)}{(\\beta^2 + (l^2\\pi/4 S_g)^2)^{1.5}} $$"
   ]
  },
  {
   "cell_type": "markdown",
   "metadata": {},
   "source": [
    "Using the new variable definitions simplifes the expression.\n",
    "$${C_D}_{c,v} = 4 \\left(\\frac{t}{c}\\right)^2 \\frac{(\\beta^2 + 2 r^2)}{(\\beta^2 + r^2)^{1.5}} $$"
   ]
  },
  {
   "cell_type": "markdown",
   "metadata": {},
   "source": [
    "Finally, in order to add this drag to the other we need to use the same reference area.  This volume-dependent drag is defined relative to the gross area.  Thus, we must multiply by $S_g/S_{ref}$ so that it is normalized relative to the same reference area.\n",
    "$${C_D}_{c,v} = 4 \\left(\\frac{t}{c}\\right)^2 S_r \\frac{(\\beta^2 + 2 r^2)}{(\\beta^2 + r^2)^{1.5}} $$"
   ]
  },
  {
   "cell_type": "markdown",
   "metadata": {},
   "source": [
    "#### Fuselage Volume Wave Drag "
   ]
  },
  {
   "cell_type": "markdown",
   "metadata": {},
   "source": [
    "The Sears-Haack minimum drag solution for a body of revolution with fixed length and diameter is\n",
    "$$ {C_D}_{c,v} = 4 \\pi^2 \\left(\\frac{r}{l}\\right)^2 $$"
   ]
  },
  {
   "cell_type": "markdown",
   "metadata": {},
   "source": [
    "We make the substitution $r = d/2$ and because this drag is based on frontal area, we need to multiply by the frontal area and divide by $S_{ref}$ so that all of our drag coefficients use the same reference area:\n",
    "$$ {C_D}_{c,v} = 4 \\pi^2 \\frac{d^2}{4 l^2} \\frac{\\pi d^2}{4 S_{ref}} $$\n",
    "or after simplifying:"
   ]
  },
  {
   "cell_type": "markdown",
   "metadata": {},
   "source": [
    "$$ {C_D}_{c,v} = \\frac{\\pi^3}{4} \\frac{d^2}{(l/d)^2  S_{ref}} $$"
   ]
  },
  {
   "cell_type": "code",
   "execution_count": null,
   "metadata": {
    "collapsed": true
   },
   "outputs": [],
   "source": []
  }
 ],
 "metadata": {
  "kernelspec": {
   "display_name": "Julia 0.6.0",
   "language": "julia",
   "name": "julia-0.6"
  },
  "language_info": {
   "file_extension": ".jl",
   "mimetype": "application/julia",
   "name": "julia",
   "version": "0.6.0"
  }
 },
 "nbformat": 4,
 "nbformat_minor": 2
}
