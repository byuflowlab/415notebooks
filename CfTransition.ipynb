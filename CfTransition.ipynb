{
 "cells": [
  {
   "cell_type": "markdown",
   "metadata": {},
   "source": [
    "## Skin friction coefficient for a flat plate with transition\n",
    "\n",
    "In class we talked about how to estimate the skin friction coefficient for both a laminar and turbulent flat plate boundary layer.  However, most of the time an airfoil is not fully laminar or fully turbulent but rather transitions somewhere along the airfoil.  Accounting for this in a rational way is the subject of this notebook.\n",
    "\n",
    "First, let's repeat the skin friction coefficient expressions.  For a laminar boundary we have the analytic Blasius solution:\n",
    "$$ {C_f}_{l} = \\frac{1.328}{\\sqrt{Re_x}}$$\n",
    "and for a turbulent boundary layer we use the semi-empircal formula from Schlichting:\n",
    "$$ {C_f}_{t} = \\frac{0.455}{(log_{10}Re_x)^{2.58}}$$\n",
    "\n",
    "In the following derivation we will utilize the figure below.  We start with a laminar region that extends up to the transition location $x_t$.  The turbulent boundary layer begins from there and continues to $c$ (although we use $c$ as it is indicative of chord, this analysis is not restricted to airfoils).  The turbulent boundary layer begins with some thickness, but we can imagine tracing it back to figure out where the turbulent boundary layer would have needed to start in order to develop the same thickness at $x_t$.  We will call this the effective distance $x_e$, and it is defined as a distance upstream of the transition location.  The three regions that we will perform separate calculations on are labeled as 1, 2, and 3.\n",
    "\n",
    "![alt text](transition.svg)"
   ]
  },
  {
   "cell_type": "markdown",
   "metadata": {},
   "source": [
    "Region 1 is the easiest.  We simply use the laminar skin friction coefficient acting over a distance $x_t$.  \n",
    "$${C_f}_1 = \\frac{1.328}{\\sqrt{Re_{xt}}}$$\n",
    "\n",
    "Region 3 is not as straightforward as we can't just start the turbulent calculation from the transition location.  Our formulas are based on starting from the beginning of the boundary layer.  Thus, we first need to calculate the effective distance $x_e$.  \n",
    "\n",
    "The size of the boundary layer can be measured by its momentum thickness $\\theta$ (you will learn more about this if you take ME 515: Aerodynamics).  The Blasius solution provides a formula for this thickness, which we will evalute over a distance $x_t$\n",
    "$$\\theta_l = \\frac{0.664 x_t}{\\sqrt{Re_{xt}}}$$\n",
    "This is the thickness of the boundary layer at the transition location.  To work backwards in the turbulent boundary layer we use a similar formula, but instead use one for a turbulent boundary layer.  The Schlichting empirical formula for momentum thickness of a turbulent boundary layer evaluate at a distance $x_e$ is:\n",
    "$$\\theta_t = \\frac{0.036 x_e}{Re_{xe}^{0.2}}$$\n",
    "These two momentum thicknesses must be equal.  Since we can already compute $\\theta_l$ we can now solve for $x_e$:\n",
    "$$\n",
    "\\begin{align}\n",
    "\\theta_t &= \\frac{0.036 x_e}{Re_{xe}^{0.2}}\\\\\n",
    "\\theta_l &= \\frac{0.036 x_e}{Re_{xe}^{0.2}}\\\\\n",
    "\\theta_l &= \\frac{0.036 x_e}{\\left(\\frac{\\rho V x_e}{\\mu}\\right)^{0.2}}\\\\\n",
    "x_e^{0.8} &= \\frac{\\theta_l \\left(\\frac{\\rho V}{\\mu}\\right)^{0.2}}{0.036}\\\\\n",
    "x_e^{0.8} &= \\frac{\\theta_l \\left(\\frac{\\rho V c}{\\mu}\\right)^{0.2}}{0.036 c^{0.2}}\\\\\n",
    "(x_e/c)^{0.8} &= \\frac{(\\theta_l/c) Re_c^{0.2}}{0.036}\\\\\n",
    "\\frac{x_e}{c} &= \\left( \\frac{(\\theta_l/c) Re_c^{0.2}}{0.036} \\right)^{1.25}\n",
    "\\end{align}\n",
    "$$"
   ]
  },
  {
   "cell_type": "markdown",
   "metadata": {},
   "source": [
    "Now that we know the effective distance we can compute the skin friction coefficient for Region 3 using the Schlichting formula.  The distance that this acts over is $c - x_t + x_e$.  We will call this $x_f$ (for fictitious since it includes the dashed fictitious portion that is not actually turbulent).\n",
    "$$ {C_f}_3 = \\frac{0.455}{(log_{10}Re_{xf})^{2.58}}$$"
   ]
  },
  {
   "cell_type": "markdown",
   "metadata": {},
   "source": [
    "We now need to deal with the overlapping Region 2, which we have double counted.  We just calculated the skin friction coefficient for all of Region 3 but we need to subtract off Region 2.  This is easy enough as it is just a turbulent boundary layer acting over a distance $x_e$.\n",
    "$$ {C_f}_2 = \\frac{0.455}{(log_{10}Re_{xe})^{2.58}}$$"
   ]
  },
  {
   "cell_type": "markdown",
   "metadata": {},
   "source": [
    "We are now ready to put everything together.  However, skin friction coefficients can't just be added as they are normalized over different areas.  It is the forces that we can add.  Recall that\n",
    "$$C_f = \\frac{\\tau}{q_\\infty}$$\n",
    "Thus the drag force acting over region j is\n",
    "$$ D_j = {C_f}_j q_\\infty x_j (1)$$\n",
    "where $x_j$ is the distance that the skin friction acts over (with unit width into the page).  Once we add all the drag forces we would like to normalize (by the chord $c$) so that we have one final skin friction coefficient.\n",
    "\n",
    "$$\n",
    "\\begin{align}\n",
    "C_f &= \\frac{\\tau}{q_\\infty}\\\\\n",
    "&= \\frac{\\Sigma_j D_j/A}{q_\\infty}\\\\\n",
    "&= \\frac{\\Sigma_j D_j}{c q_\\infty}\\\\\n",
    "&= \\frac{\\Sigma_j {C_f}_j q_\\infty x_j}{c q_\\infty}\\\\\n",
    "&= \\Sigma_j {C_f}_j \\frac{x_j}{c}\\\\\n",
    "\\end{align}\n",
    "$$"
   ]
  },
  {
   "cell_type": "markdown",
   "metadata": {},
   "source": [
    "Thus, rather than sum the skin friction coefficients we need to sum the skin friction coefficients times the area that act over.  This is exactly the same situation when adding drag coefficients that use different areas for normalization.\n",
    "\n",
    "The total skin friction coefficient is then\n",
    "$$ \n",
    "\\begin{align}\n",
    "C_f = {C_f}_1 (x_t/c) + {C_f}_3 (x_f/c) - {C_f}_2 (x_e/c)\n",
    "\\end{align}\n",
    "$$"
   ]
  },
  {
   "cell_type": "markdown",
   "metadata": {},
   "source": [
    "The last thing to note is that if we are given the Reynolds number for one length scale\n",
    "$$Re_c = \\frac{\\rho V c}{\\mu} $$\n",
    "we can easily calculate it at another length scale as follows:\n",
    "$$Re_{xt} = \\frac{\\rho V x_t}{\\mu} Re_c \\frac{x_t}{c} $$"
   ]
  },
  {
   "cell_type": "markdown",
   "metadata": {},
   "source": [
    "## Summary\n",
    "The final algorithm is as follows (which we do nondimensionally):\n",
    "\n",
    "Given input: \n",
    "$$x_t/c \\text{ and } Re_c$$\n",
    "\n",
    "Reynolds number and skin friction coefficient over Region 1:\n",
    "$$Re_{xt} = Re_c (x_t/c)$$\n",
    "$${C_f}_1 = \\frac{1.328}{\\sqrt{Re_{xt}}}$$\n",
    "\n",
    "Effective distance:\n",
    "$$\\theta/c = \\frac{0.664 (x_t/c)}{\\sqrt{Re_{xt}}}$$\n",
    "$$x_e/c = \\left( \\frac{(\\theta/c) Re_c^{0.2}}{0.036} \\right)^{1.25}$$\n",
    "\n",
    "Reynolds number and skin friction coefficient over Region 2:\n",
    "$$Re_{xe} = Re_c (x_e/c)$$\n",
    "$$ {C_f}_2 = \\frac{0.455}{(log_{10}Re_{xe})^{2.58}}$$\n",
    "\n",
    "Reynolds number and skin friction coefficient over Region 3:\n",
    "$$x_f/c = 1 - x_t/c + x_e/c$$\n",
    "$$Re_{xf} = Re_c (x_f/c)$$\n",
    "$$ {C_f}_3 = \\frac{0.455}{(log_{10}Re_{xf})^{2.58}}$$\n",
    "\n",
    "Total skin friction coefficient\n",
    "$$ C_f = {C_f}_1 (x_t/c) + {C_f}_3 (x_f/c) - {C_f}_2 (x_e/c) $$"
   ]
  },
  {
   "cell_type": "code",
   "execution_count": 3,
   "metadata": {},
   "outputs": [
    {
     "data": {
      "text/plain": [
       "cftransition (generic function with 1 method)"
      ]
     },
     "execution_count": 3,
     "metadata": {},
     "output_type": "execute_result"
    }
   ],
   "source": [
    "function cftransition(xt, Re)\n",
    "    \"\"\"xt should be normalized realtive to the length of the plate\"\"\"\n",
    "    \n",
    "    # Region 1\n",
    "    Rext = Re*xt\n",
    "    Cf1 = 1.328/sqrt(Rext)\n",
    "    \n",
    "    # effective distance\n",
    "    theta = 0.644*xt/sqrt(Rext)\n",
    "    xe = (theta*Re^0.2/0.036)^1.25\n",
    "    \n",
    "    # Region 2\n",
    "    Rexe = Re*xe\n",
    "    Cf2 = 0.455/(log10(Rexe))^2.58\n",
    "    \n",
    "    # Region 3\n",
    "    xf = 1 - xt + xe\n",
    "    Rexf = Re*xf\n",
    "    Cf3 = 0.455/(log10(Rexf))^2.58\n",
    "    \n",
    "    # total\n",
    "    Cf = Cf1*xt + Cf3*xf - Cf2*xe\n",
    "    \n",
    "    return Cf\n",
    "end"
   ]
  },
  {
   "cell_type": "code",
   "execution_count": 2,
   "metadata": {},
   "outputs": [
    {
     "name": "stdout",
     "output_type": "stream",
     "text": [
      "0.0021039491932985507\n"
     ]
    }
   ],
   "source": [
    "println(cftransition(0.8, 1e6))"
   ]
  },
  {
   "cell_type": "code",
   "execution_count": null,
   "metadata": {
    "collapsed": true
   },
   "outputs": [],
   "source": []
  }
 ],
 "metadata": {
  "kernelspec": {
   "display_name": "Julia 0.6.0",
   "language": "julia",
   "name": "julia-0.6"
  },
  "language_info": {
   "file_extension": ".jl",
   "mimetype": "application/julia",
   "name": "julia",
   "version": "0.6.0"
  }
 },
 "nbformat": 4,
 "nbformat_minor": 2
}
