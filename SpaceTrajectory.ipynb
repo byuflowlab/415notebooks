{
 "cells": [
  {
   "cell_type": "markdown",
   "metadata": {},
   "source": [
    "# Space Flight Trajectory"
   ]
  },
  {
   "cell_type": "code",
   "execution_count": 1,
   "metadata": {},
   "outputs": [
    {
     "data": {
      "text/html": [
       "<div id=\"interact-js-shim\">\n",
       "    <script charset=\"utf-8\">\n",
       "(function (IPython, $, _, MathJax) {\n",
       "    $.event.special.destroyed = {\n",
       "\tremove: function(o) {\n",
       "\t    if (o.handler) {\n",
       "\t\to.handler.apply(this, arguments)\n",
       "\t    }\n",
       "\t}\n",
       "    }\n",
       "\n",
       "    var OutputArea = IPython.version >= \"4.0.0\" ? require(\"notebook/js/outputarea\").OutputArea : IPython.OutputArea;\n",
       "\n",
       "    var redrawValue = function (container, type, val) {\n",
       "\tvar selector = $(\"<div/>\");\n",
       "\tvar oa = new OutputArea(_.extend(selector, {\n",
       "\t    selector: selector,\n",
       "\t    prompt_area: true,\n",
       "\t    events: IPython.events,\n",
       "\t    keyboard_manager: IPython.keyboard_manager\n",
       "\t})); // Hack to work with IPython 2.1.0\n",
       "\n",
       "\tswitch (type) {\n",
       "\tcase \"image/png\":\n",
       "            var _src = 'data:' + type + ';base64,' + val;\n",
       "\t    $(container).find(\"img\").attr('src', _src);\n",
       "\t    break;\n",
       "\tcase \"text/latex\":\n",
       "\t\tif (MathJax){\n",
       "\t\t\tvar math = MathJax.Hub.getAllJax(container)[0];\n",
       "\t\t\tMathJax.Hub.Queue([\"Text\", math, val.replace(/^\\${1,2}|\\${1,2}$/g, '')]);\n",
       "\t\t\tbreak;\n",
       "\t\t}\n",
       "\tdefault:\n",
       "\t    var toinsert = OutputArea.append_map[type].apply(\n",
       "\t\toa, [val, {}, selector]\n",
       "\t    );\n",
       "\t    $(container).empty().append(toinsert.contents());\n",
       "\t    selector.remove();\n",
       "\t}\n",
       "    }\n",
       "\n",
       "\n",
       "    $(document).ready(function() {\n",
       "\tfunction initComm(evt, data) {\n",
       "\t    var comm_manager = data.kernel.comm_manager;\n",
       "        //_.extend(comm_manager.targets, require(\"widgets/js/widget\"))\n",
       "\t    comm_manager.register_target(\"Signal\", function (comm) {\n",
       "            comm.on_msg(function (msg) {\n",
       "                var val = msg.content.data.value;\n",
       "                $(\".signal-\" + comm.comm_id).each(function() {\n",
       "                var type = $(this).data(\"type\");\n",
       "                if (typeof(val[type]) !== \"undefined\" && val[type] !== null) {\n",
       "                    redrawValue(this, type, val[type], type);\n",
       "                }\n",
       "                });\n",
       "                delete val;\n",
       "                delete msg.content.data.value;\n",
       "            });\n",
       "\t    });\n",
       "\n",
       "\t    // coordingate with Comm and redraw Signals\n",
       "\t    // XXX: Test using Reactive here to improve performance\n",
       "\t    $([IPython.events]).on(\n",
       "\t\t'output_appended.OutputArea', function (event, type, value, md, toinsert) {\n",
       "\t\t    if (md && md.reactive) {\n",
       "                // console.log(md.comm_id);\n",
       "                toinsert.addClass(\"signal-\" + md.comm_id);\n",
       "                toinsert.data(\"type\", type);\n",
       "                // Signal back indicating the mimetype required\n",
       "                var comm_manager = IPython.notebook.kernel.comm_manager;\n",
       "                var comm = comm_manager.comms[md.comm_id];\n",
       "                comm.then(function (c) {\n",
       "                    c.send({action: \"subscribe_mime\",\n",
       "                       mime: type});\n",
       "                    toinsert.bind(\"destroyed\", function() {\n",
       "                        c.send({action: \"unsubscribe_mime\",\n",
       "                               mime: type});\n",
       "                    });\n",
       "                })\n",
       "\t\t    }\n",
       "\t    });\n",
       "\t}\n",
       "\n",
       "\ttry {\n",
       "\t    // try to initialize right away. otherwise, wait on the status_started event.\n",
       "\t    initComm(undefined, IPython.notebook);\n",
       "\t} catch (e) {\n",
       "\t    $([IPython.events]).on('kernel_created.Kernel kernel_created.Session', initComm);\n",
       "\t}\n",
       "    });\n",
       "})(IPython, jQuery, _, MathJax);\n",
       "</script>\n",
       "    <script>\n",
       "        window.interactLoadedFlag = true\n",
       "       $(\"#interact-js-shim\").bind(\"destroyed\", function () {\n",
       "           if (window.interactLoadedFlag) {\n",
       "               console.warn(\"JavaScript required by Interact will be removed if you remove this cell or run using Interact more than once.\")\n",
       "           }\n",
       "       })\n",
       "       $([IPython.events]).on(\"kernel_starting.Kernel kernel_restarting.Kernel\", function () { window.interactLoadedFlag = false })\n",
       "   </script>\n",
       "</div>"
      ]
     },
     "metadata": {},
     "output_type": "display_data"
    }
   ],
   "source": [
    "using PyPlot\n",
    "using Interact"
   ]
  },
  {
   "cell_type": "code",
   "execution_count": 17,
   "metadata": {},
   "outputs": [],
   "source": [
    "function trajectory(V, altitude, angle_above_horizontal, latitude)\n",
    "\n",
    "    # ---- constants -------\n",
    "    re = 6374.2e3  # m (radius of earth)\n",
    "    mu = 3.986e14  # GM (earth)\n",
    "\n",
    "    # angular momentum\n",
    "    rb = re + altitude\n",
    "    Vtheta = V*cos(angle_above_horizontal)\n",
    "    h = rb*Vtheta\n",
    "    p = h^2/mu\n",
    "\n",
    "    # eccentricity\n",
    "    t = V^2/2\n",
    "    phi = mu/rb\n",
    "    H = t - phi\n",
    "    e = sqrt(1 + 2*h^2*H/mu^2)\n",
    "\n",
    "    # angle offset\n",
    "    C = -acos(1.0/e*(p/rb - 1))\n",
    "\n",
    "    # compute r locations\n",
    "    theta = linspace(0, 2*pi, 500)\n",
    "    r = p./(1 + e*cos.(theta-C))\n",
    "\n",
    "    xrot = r.*cos.(theta)\n",
    "    yrot = r.*sin.(theta)\n",
    "\n",
    "    # rotate coordinate system\n",
    "    x = xrot*cos(latitude) - yrot*sin(latitude)\n",
    "    y = xrot*sin(latitude) + yrot*cos(latitude)\n",
    "\n",
    "    # earth outline\n",
    "    xe = re*cos.(theta)\n",
    "    ye = re*sin.(theta)\n",
    "\n",
    "\n",
    "    return x, y, xe, ye\n",
    "end;"
   ]
  },
  {
   "cell_type": "markdown",
   "metadata": {},
   "source": [
    "The following inputs can be changed in the sliders:\n",
    "- V (m/s)\n",
    "- altitude (m)\n",
    "- angle above horizontal (deg)\n",
    "- latitude (deg)"
   ]
  },
  {
   "cell_type": "code",
   "execution_count": 23,
   "metadata": {},
   "outputs": [
    {
     "data": {
      "text/html": [],
      "text/plain": [
       "Interact.Options{:SelectionSlider,Any}(127: \"input-47\" = 9000 Any , \"V\", 9000, \"9000\", 13, Interact.OptionDict(DataStructures.OrderedDict{Any,Any}(\"6000\"=>6000,\"6250\"=>6250,\"6500\"=>6500,\"6750\"=>6750,\"7000\"=>7000,\"7250\"=>7250,\"7500\"=>7500,\"7750\"=>7750,\"8000\"=>8000,\"8250\"=>8250…), Dict{Any,Any}(Pair{Any,Any}(11500, \"11500\"),Pair{Any,Any}(11000, \"11000\"),Pair{Any,Any}(9750, \"9750\"),Pair{Any,Any}(7750, \"7750\"),Pair{Any,Any}(12000, \"12000\"),Pair{Any,Any}(10000, \"10000\"),Pair{Any,Any}(11250, \"11250\"),Pair{Any,Any}(7000, \"7000\"),Pair{Any,Any}(7250, \"7250\"),Pair{Any,Any}(9000, \"9000\")…)), Any[], Any[], true, \"horizontal\")"
      ]
     },
     "metadata": {},
     "output_type": "display_data"
    },
    {
     "data": {
      "text/html": [],
      "text/plain": [
       "Interact.Options{:SelectionSlider,Any}(129: \"input-48\" = 900000.0 Any , \"altitude\", 900000.0, \"900000.0\", 6, Interact.OptionDict(DataStructures.OrderedDict{Any,Any}(\"400000.0\"=>400000.0,\"500000.0\"=>500000.0,\"600000.0\"=>600000.0,\"700000.0\"=>700000.0,\"800000.0\"=>800000.0,\"900000.0\"=>900000.0,\"1.0e6\"=>1.0e6,\"1.1e6\"=>1.1e6,\"1.2e6\"=>1.2e6,\"1.3e6\"=>1.3e6…), Dict{Any,Any}(Pair{Any,Any}(700000.0, \"700000.0\"),Pair{Any,Any}(900000.0, \"900000.0\"),Pair{Any,Any}(400000.0, \"400000.0\"),Pair{Any,Any}(1.0e6, \"1.0e6\"),Pair{Any,Any}(500000.0, \"500000.0\"),Pair{Any,Any}(800000.0, \"800000.0\"),Pair{Any,Any}(1.4e6, \"1.4e6\"),Pair{Any,Any}(600000.0, \"600000.0\"),Pair{Any,Any}(1.1e6, \"1.1e6\"),Pair{Any,Any}(1.3e6, \"1.3e6\")…)), Any[], Any[], true, \"horizontal\")"
      ]
     },
     "metadata": {},
     "output_type": "display_data"
    },
    {
     "data": {
      "text/html": [],
      "text/plain": [
       "Interact.Options{:SelectionSlider,Any}(131: \"input-49\" = 5 Any , \"angle\", 5, \"5\", 6, Interact.OptionDict(DataStructures.OrderedDict{Any,Any}(\"0\"=>0,\"1\"=>1,\"2\"=>2,\"3\"=>3,\"4\"=>4,\"5\"=>5,\"6\"=>6,\"7\"=>7,\"8\"=>8,\"9\"=>9…), Dict{Any,Any}(Pair{Any,Any}(2, \"2\"),Pair{Any,Any}(0, \"0\"),Pair{Any,Any}(7, \"7\"),Pair{Any,Any}(9, \"9\"),Pair{Any,Any}(10, \"10\"),Pair{Any,Any}(8, \"8\"),Pair{Any,Any}(6, \"6\"),Pair{Any,Any}(4, \"4\"),Pair{Any,Any}(3, \"3\"),Pair{Any,Any}(5, \"5\")…)), Any[], Any[], true, \"horizontal\")"
      ]
     },
     "metadata": {},
     "output_type": "display_data"
    },
    {
     "data": {
      "text/html": [],
      "text/plain": [
       "Interact.Options{:SelectionSlider,Any}(133: \"input-50\" = 22 Any , \"latitude\", 22, \"22\", 23, Interact.OptionDict(DataStructures.OrderedDict{Any,Any}(\"0\"=>0,\"1\"=>1,\"2\"=>2,\"3\"=>3,\"4\"=>4,\"5\"=>5,\"6\"=>6,\"7\"=>7,\"8\"=>8,\"9\"=>9…), Dict{Any,Any}(Pair{Any,Any}(2, \"2\"),Pair{Any,Any}(11, \"11\"),Pair{Any,Any}(39, \"39\"),Pair{Any,Any}(25, \"25\"),Pair{Any,Any}(42, \"42\"),Pair{Any,Any}(29, \"29\"),Pair{Any,Any}(8, \"8\"),Pair{Any,Any}(20, \"20\"),Pair{Any,Any}(14, \"14\"),Pair{Any,Any}(31, \"31\")…)), Any[], Any[], true, \"horizontal\")"
      ]
     },
     "metadata": {},
     "output_type": "display_data"
    },
    {
     "data": {
      "image/png": "[encoded data removed]",
      "text/plain": [
       "PyPlot.Figure(PyObject <matplotlib.figure.Figure object at 0x12d2e0f90>)"
      ]
     },
     "execution_count": 23,
     "metadata": {
      "comm_id": "7488ce82-7d6f-4d91-ac0e-82303c124e32",
      "reactive": true
     },
     "output_type": "execute_result"
    }
   ],
   "source": [
    "f = figure()\n",
    "\n",
    "@manipulate for V=6000:250:12000, altitude=400e3:100e3:1500e3, angle=0:1:10, latitude=0:1:45; \n",
    "    withfig(f) do\n",
    "        x, y, xe, ye = trajectory(V, altitude, angle*pi/180, latitude*pi/180)\n",
    "        plot(xe, ye, \"k\")\n",
    "        plot(x, y)\n",
    "        xlim([-0.5e8, 0.2e8])\n",
    "        ylim([-0.5e8, 0.2e8])\n",
    "        axis(\"off\")\n",
    "    end\n",
    "end\n",
    "\n"
   ]
  },
  {
   "cell_type": "code",
   "execution_count": null,
   "metadata": {
    "collapsed": true
   },
   "outputs": [],
   "source": []
  }
 ],
 "metadata": {
  "kernelspec": {
   "display_name": "Julia 0.6.0",
   "language": "julia",
   "name": "julia-0.6"
  },
  "language_info": {
   "file_extension": ".jl",
   "mimetype": "application/julia",
   "name": "julia",
   "version": "0.6.0"
  }
 },
 "nbformat": 4,
 "nbformat_minor": 2
}
